{
 "metadata": {
  "language_info": {
   "codemirror_mode": {
    "name": "ipython",
    "version": 3
   },
   "file_extension": ".py",
   "mimetype": "text/x-python",
   "name": "python",
   "nbconvert_exporter": "python",
   "pygments_lexer": "ipython3",
   "version": "3.8.6-final"
  },
  "orig_nbformat": 2,
  "kernelspec": {
   "name": "python3",
   "display_name": "Python 3.8.6 64-bit",
   "metadata": {
    "interpreter": {
     "hash": "082e9a3bcad0a290d0001e938aa60b99250c6c2ef33a923c00b70f9826caf4b7"
    }
   }
  }
 },
 "nbformat": 4,
 "nbformat_minor": 2,
 "cells": [
  {
   "source": [
    "# Greedy Algorithm(탐욕 알고리즘)"
   ],
   "cell_type": "markdown",
   "metadata": {}
  },
  {
   "source": [
    "## 개념"
   ],
   "cell_type": "markdown",
   "metadata": {}
  },
  {
   "source": [
    "### Greedy Algorithm 이란?\n",
    "\n",
    "* 매 선택에서 당장 최적인 답을 선택하여 최적의 결과를 도출하는 알고리즘"
   ],
   "cell_type": "markdown",
   "metadata": {}
  },
  {
   "source": [
    "### 장점\n",
    "\n",
    "* O(n)의 시간복잡도로, 동적 프로그래밍에 비해 효율적인 탐색시간을 나타낸다."
   ],
   "cell_type": "markdown",
   "metadata": {}
  },
  {
   "source": [
    "### 단점\n",
    "\n",
    "* 최적의 근사치를 구할 수는 있지만, 정답을 찾을 수는 없다."
   ],
   "cell_type": "markdown",
   "metadata": {}
  },
  {
   "source": [
    "### 조건\n",
    "\n",
    "* 탐욕스런 선택 조건(Greedy Chice Property)\n",
    "* 최적 부분 구조 조건(Optimal Substructure)\n",
    "\n",
    "-> 매번 탐욕스러운 선택을 해야하며, 각각의 부분의 최적이 영원히 최적이어야 함."
   ],
   "cell_type": "markdown",
   "metadata": {}
  },
  {
   "cell_type": "code",
   "execution_count": null,
   "metadata": {},
   "outputs": [],
   "source": []
  }
 ]
}