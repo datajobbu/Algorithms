{
 "metadata": {
  "language_info": {
   "codemirror_mode": {
    "name": "ipython",
    "version": 3
   },
   "file_extension": ".py",
   "mimetype": "text/x-python",
   "name": "python",
   "nbconvert_exporter": "python",
   "pygments_lexer": "ipython3",
   "version": "3.8.6-final"
  },
  "orig_nbformat": 2,
  "kernelspec": {
   "name": "python3",
   "display_name": "Python 3.8.6 64-bit",
   "metadata": {
    "interpreter": {
     "hash": "082e9a3bcad0a290d0001e938aa60b99250c6c2ef33a923c00b70f9826caf4b7"
    }
   }
  }
 },
 "nbformat": 4,
 "nbformat_minor": 2,
 "cells": [
  {
   "source": [
    "# DFS(깊이 우선 탐색), BFS(넓이 우선 탐색)"
   ],
   "cell_type": "markdown",
   "metadata": {}
  },
  {
   "source": [
    "## 개념"
   ],
   "cell_type": "markdown",
   "metadata": {}
  },
  {
   "source": [
    "### DFS, BFS란?\n",
    "\n",
    "* 모든 자료를 하나하나 다 확인하는 탐색 알고리즘\n",
    "* 너비 우선 탐색(BFS): 매 단계에서 가능한 경우의 수를 모두 확인하여 탐색\n",
    "* 깊이 우선 탐색(DFS): 여러 경우의 수 중 하나를 선택하는 식으로 일단 하나를 선택해 끝까지 깊게 들어가는 것"
   ],
   "cell_type": "markdown",
   "metadata": {}
  },
  {
   "source": [
    "## Python"
   ],
   "cell_type": "markdown",
   "metadata": {}
  },
  {
   "source": [
    "### BFS"
   ],
   "cell_type": "markdown",
   "metadata": {}
  },
  {
   "cell_type": "code",
   "execution_count": 16,
   "metadata": {},
   "outputs": [
    {
     "output_type": "error",
     "ename": "IndentationError",
     "evalue": "unexpected indent (<ipython-input-16-e67926421643>, line 19)",
     "traceback": [
      "\u001b[0;36m  File \u001b[0;32m\"<ipython-input-16-e67926421643>\"\u001b[0;36m, line \u001b[0;32m19\u001b[0m\n\u001b[0;31m    if node == TARGET:\u001b[0m\n\u001b[0m    ^\u001b[0m\n\u001b[0;31mIndentationError\u001b[0m\u001b[0;31m:\u001b[0m unexpected indent\n"
     ]
    }
   ],
   "source": [
    "def BFS(start_node):\n",
    "    '''\n",
    "    1) queue 에 첫 번째 노드 넣으면서 시작\n",
    "    2) queue가 비어있는지 확인\n",
    "    3) queue에서 맨 앞의 노드 를 dequeue (0번 인덱스를 pop)\n",
    "    4) 만약 node가 찾고자 하는 target이라면 서치 중단\n",
    "    5) node의 자식을 expand 해서 children에 저장\n",
    "    6) children을 stack에 쌓기\n",
    "    7) 이렇게 target을 찾거나, 전부 탐색해서 queue가 빌 때까지 while문 반복\n",
    "    '''\n",
    "    queue = [start_node, ]\n",
    "\n",
    "    while True:\n",
    "        if len(queue) == 0:\n",
    "            print('All node searched.')\n",
    "            return None\n",
    "\n",
    "        node = queue.pop(0)\n",
    "        if node == TARGET:\n",
    "            print('The target found.')\n",
    "            return node\n",
    "\n",
    "        children = expand(node)\n",
    "        queue.extend(children)"
   ]
  },
  {
   "cell_type": "code",
   "execution_count": null,
   "metadata": {},
   "outputs": [],
   "source": []
  }
 ]
}